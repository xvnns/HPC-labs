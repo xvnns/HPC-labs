{
  "nbformat": 4,
  "nbformat_minor": 0,
  "metadata": {
    "colab": {
      "name": "harris.ipynb",
      "provenance": [],
      "collapsed_sections": []
    },
    "kernelspec": {
      "name": "python3",
      "display_name": "Python 3"
    },
    "language_info": {
      "name": "python"
    },
    "accelerator": "GPU"
  },
  "cells": [
    {
      "cell_type": "markdown",
      "source": [
        "# Harris algorithm"
      ],
      "metadata": {
        "id": "_r-RrdaeOCp8"
      }
    },
    {
      "cell_type": "markdown",
      "source": [
        "В ходе выполнения лабораторной работы был реализован алгоритм детекции углов Харриса с применением CUDA."
      ],
      "metadata": {
        "id": "iyaeYDnlOxuC"
      }
    },
    {
      "cell_type": "markdown",
      "source": [
        "**Входные данные:** \n",
        "\n",
        "*   изображение в градациях серого;\n",
        "*   пороговое значение.\n",
        "\n",
        "**Выходные данные:**\n",
        "\n",
        "* время выполнения с использованием GPU;\n",
        "* время выполнения без GPU;\n",
        "* изображение, полученное в результате применения алгоритма (выводится и сохраняется в файл)."
      ],
      "metadata": {
        "id": "a7Je0HoGO9Tj"
      }
    },
    {
      "cell_type": "code",
      "source": [
        "!lscpu |grep 'Model name'"
      ],
      "metadata": {
        "colab": {
          "base_uri": "https://localhost:8080/"
        },
        "id": "Kxk_EKDBt5OQ",
        "outputId": "a25f335a-52ed-462c-bdec-361d8cef36bd"
      },
      "execution_count": 1,
      "outputs": [
        {
          "output_type": "stream",
          "name": "stdout",
          "text": [
            "Model name:          Intel(R) Xeon(R) CPU @ 2.30GHz\n"
          ]
        }
      ]
    },
    {
      "cell_type": "code",
      "source": [
        "!nvidia-smi"
      ],
      "metadata": {
        "colab": {
          "base_uri": "https://localhost:8080/"
        },
        "id": "ArZGGckht5vq",
        "outputId": "1e341dbb-400d-4614-d920-51b7f6e6d53f"
      },
      "execution_count": 2,
      "outputs": [
        {
          "output_type": "stream",
          "name": "stdout",
          "text": [
            "Wed Jan  5 23:07:50 2022       \n",
            "+-----------------------------------------------------------------------------+\n",
            "| NVIDIA-SMI 495.44       Driver Version: 460.32.03    CUDA Version: 11.2     |\n",
            "|-------------------------------+----------------------+----------------------+\n",
            "| GPU  Name        Persistence-M| Bus-Id        Disp.A | Volatile Uncorr. ECC |\n",
            "| Fan  Temp  Perf  Pwr:Usage/Cap|         Memory-Usage | GPU-Util  Compute M. |\n",
            "|                               |                      |               MIG M. |\n",
            "|===============================+======================+======================|\n",
            "|   0  Tesla K80           Off  | 00000000:00:04.0 Off |                    0 |\n",
            "| N/A   44C    P8    28W / 149W |      0MiB / 11441MiB |      0%      Default |\n",
            "|                               |                      |                  N/A |\n",
            "+-------------------------------+----------------------+----------------------+\n",
            "                                                                               \n",
            "+-----------------------------------------------------------------------------+\n",
            "| Processes:                                                                  |\n",
            "|  GPU   GI   CI        PID   Type   Process name                  GPU Memory |\n",
            "|        ID   ID                                                   Usage      |\n",
            "|=============================================================================|\n",
            "|  No running processes found                                                 |\n",
            "+-----------------------------------------------------------------------------+\n"
          ]
        }
      ]
    },
    {
      "cell_type": "code",
      "source": [
        "import numpy as np\n",
        "from numba import cuda\n",
        "from time import time\n",
        "import cv2\n",
        "from google.colab.patches import cv2_imshow\n",
        "import matplotlib.pyplot as plt"
      ],
      "metadata": {
        "id": "m4IKxHm8fOKO"
      },
      "execution_count": 3,
      "outputs": []
    },
    {
      "cell_type": "code",
      "source": [
        "img_src = cv2.imread(\"/content/ex1.png\")\n",
        "im = cv2.cvtColor(img_src, cv2.COLOR_BGR2GRAY)\n",
        "print(\"Исходное изображение\")\n",
        "cv2_imshow(img_src)"
      ],
      "metadata": {
        "colab": {
          "base_uri": "https://localhost:8080/",
          "height": 418
        },
        "id": "y114Tuwq_emN",
        "outputId": "0796f9a5-9265-40ed-c9a1-cf6aeef5e756"
      },
      "execution_count": 4,
      "outputs": [
        {
          "output_type": "stream",
          "name": "stdout",
          "text": [
            "Исходное изображение\n"
          ]
        },
        {
          "output_type": "display_data",
          "data": {
            "image/png": "[encoded data removed]",
            "text/plain": [
              "<PIL.Image.Image image mode=RGB size=384x384 at 0x7F17E0FD6CD0>"
            ]
          },
          "metadata": {}
        }
      ]
    },
    {
      "cell_type": "code",
      "source": [
        "# пороговое значение\n",
        "threshold = 10000.0"
      ],
      "metadata": {
        "id": "_TFRqa96XZwE"
      },
      "execution_count": 5,
      "outputs": []
    },
    {
      "cell_type": "markdown",
      "source": [
        "## Реализация на GPU"
      ],
      "metadata": {
        "id": "8vkAl58HWyey"
      }
    },
    {
      "cell_type": "code",
      "source": [
        "@cuda.jit\n",
        "def harris_gpu(im, a, w, h):\n",
        "  i, j = cuda.grid(2)\n",
        "  # вычисляем используя оператор Собеля\n",
        "  Ix = im[i-1][j-1]*-1 + im[i-1][j+1]*1 + im[i][j-1]*-2 + im[i][j+1]*2 + im[i+1][j-1]*-1 + im[i+1][j+1]*1\n",
        "  Iy = im[i-1][j-1]*-1 + im[i-1][j]*-2 + im[i-1][j+1]*-1 + im[i+1][j-1]*1 + im[i+1][j]*2 + im[i+1][j+1]*1\n",
        "  Ixx = Ix ** 2\n",
        "  Iyy = Iy ** 2\n",
        "  Ixy = Ix * Iy\n",
        "  detA = Ixx * Iyy\n",
        "  traceA = Ixx + Iyy \n",
        "  a[i][j] = detA - 0.05 * traceA ** 2"
      ],
      "metadata": {
        "id": "VZAO5IoeSmHX"
      },
      "execution_count": 6,
      "outputs": []
    },
    {
      "cell_type": "code",
      "source": [
        "print('Harris GPU')\n",
        "\n",
        "img_array = np.array(im)\n",
        "\n",
        "# ширина и высота изображения\n",
        "w = img_array.shape[0]\n",
        "h = img_array.shape[1]\n",
        "\n",
        "# массив под результат\n",
        "a = np.zeros((w, h), dtype=np.int16)\n",
        "\n",
        "a_global = cuda.to_device(a)\n",
        "im_global = cuda.to_device(im)\n",
        "w_global = cuda.to_device(w)\n",
        "h_global = cuda.to_device(h)\n",
        "\n",
        "block = (32, 32)\n",
        "grid = (w // block[0], h // block[1])\n",
        "\n",
        "start = time()\n",
        "harris_gpu[grid, block](im_global, a_global, w_global, h_global)\n",
        "time_gpu = time() - start\n",
        "\n",
        "mark = a_global.copy_to_host()\n",
        "image = img_src.copy()\n",
        "\n",
        "for j in range(0, h - 1):\n",
        "    for i in range(0, w - 1):\n",
        "        value = mark[j, i]\n",
        "        if value > threshold:\n",
        "            cv2.circle(image, (i, j), 1, (0, 0, 255))\n",
        "\n",
        "print('time:', time_gpu)\n",
        "cv2.imwrite('gpu_result.png', image)\n",
        "cv2_imshow(image)"
      ],
      "metadata": {
        "colab": {
          "base_uri": "https://localhost:8080/",
          "height": 436
        },
        "id": "gD_QGuzhprj3",
        "outputId": "b561505e-38c1-467c-8b0c-b65aea05fba5"
      },
      "execution_count": 10,
      "outputs": [
        {
          "output_type": "stream",
          "name": "stdout",
          "text": [
            "Harris GPU\n",
            "time: 0.0011286735534667969\n"
          ]
        },
        {
          "output_type": "display_data",
          "data": {
            "image/png": "[encoded data removed]",
            "text/plain": [
              "<PIL.Image.Image image mode=RGB size=384x384 at 0x7F17EC005490>"
            ]
          },
          "metadata": {}
        }
      ]
    },
    {
      "cell_type": "markdown",
      "source": [
        "## Реализация на CPU"
      ],
      "metadata": {
        "id": "vIGM08YRW-JV"
      }
    },
    {
      "cell_type": "code",
      "source": [
        "print('Harris CPU')\n",
        "\n",
        "gray = np.float32(im)\n",
        "\n",
        "start = time()\n",
        "dst = cv2.cornerHarris(gray, 2, 3, 0.05)\n",
        "time_cpu = time() - start\n",
        "print('time:', time_cpu)\n",
        "\n",
        "img_src[dst > 0.01 * dst.max()] = [0, 0, 255]\n",
        "\n",
        "cv2.imwrite('cpu_result.png', img_src)\n",
        "cv2_imshow(img_src)"
      ],
      "metadata": {
        "colab": {
          "base_uri": "https://localhost:8080/",
          "height": 436
        },
        "id": "RTHpvV41_k22",
        "outputId": "217327ac-86dd-44e4-d905-6dc487c2021a"
      },
      "execution_count": 11,
      "outputs": [
        {
          "output_type": "stream",
          "name": "stdout",
          "text": [
            "Harris CPU\n",
            "time: 0.007996797561645508\n"
          ]
        },
        {
          "output_type": "display_data",
          "data": {
            "image/png": "[encoded data removed]",
            "text/plain": [
              "<PIL.Image.Image image mode=RGB size=384x384 at 0x7F17C7E80E50>"
            ]
          },
          "metadata": {}
        }
      ]
    },
    {
      "cell_type": "code",
      "source": [
        "print('Ускорение: ', time_cpu / time_gpu)"
      ],
      "metadata": {
        "colab": {
          "base_uri": "https://localhost:8080/"
        },
        "id": "5g-5Mjjr_neI",
        "outputId": "68a70e0e-1be7-45f7-eb1f-2b90c5e9e79d"
      },
      "execution_count": 12,
      "outputs": [
        {
          "output_type": "stream",
          "name": "stdout",
          "text": [
            "Ускорение:  7.085128855090832\n"
          ]
        }
      ]
    },
    {
      "cell_type": "markdown",
      "source": [
        "Таким образом, распараллеливание алгоритма Харриса с помощью CUDA позволило в несколько раз повысить скорость обнаружения углов на изображении."
      ],
      "metadata": {
        "id": "IPflGa5yXtaA"
      }
    }
  ]
}