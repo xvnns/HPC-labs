{
  "nbformat": 4,
  "nbformat_minor": 0,
  "metadata": {
    "colab": {
      "name": "lab0_MatrixMul.ipynb\"",
      "provenance": [],
      "collapsed_sections": []
    },
    "kernelspec": {
      "name": "python3",
      "display_name": "Python 3"
    },
    "language_info": {
      "name": "python"
    },
    "accelerator": "GPU"
  },
  "cells": [
    {
      "cell_type": "markdown",
      "metadata": {
        "id": "tGYLXjzMJv0U"
      },
      "source": [
        "# Лабораторная работа №0 — Перемножение матриц"
      ]
    },
    {
      "cell_type": "markdown",
      "metadata": {
        "id": "0JP2XDktOlOw"
      },
      "source": [
        "В данной лабораторной работе был реализован алгоритм перемножения матриц на CPU и GPU с применением CUDA.\n",
        "\n",
        "**Входные данные:** 2 матрицы размером от 100х100 до 2000х2000 каждая.\n",
        "\n",
        "**Выходные данные:** проверка корректности перемножения + время вычисления."
      ]
    },
    {
      "cell_type": "code",
      "source": [
        "!lscpu |grep 'Model name'"
      ],
      "metadata": {
        "colab": {
          "base_uri": "https://localhost:8080/"
        },
        "id": "iQDU5bF_F0UH",
        "outputId": "a817d452-24d3-4716-ab93-a2a865f65b35"
      },
      "execution_count": 1,
      "outputs": [
        {
          "output_type": "stream",
          "name": "stdout",
          "text": [
            "Model name:          Intel(R) Xeon(R) CPU @ 2.30GHz\n"
          ]
        }
      ]
    },
    {
      "cell_type": "code",
      "metadata": {
        "colab": {
          "base_uri": "https://localhost:8080/"
        },
        "id": "9pQHtxjMekc_",
        "outputId": "e6e6bdee-0261-47b6-a6ea-d662433b500b"
      },
      "source": [
        "!nvidia-smi"
      ],
      "execution_count": 2,
      "outputs": [
        {
          "output_type": "stream",
          "name": "stdout",
          "text": [
            "Wed Jan  5 22:48:46 2022       \n",
            "+-----------------------------------------------------------------------------+\n",
            "| NVIDIA-SMI 495.44       Driver Version: 460.32.03    CUDA Version: 11.2     |\n",
            "|-------------------------------+----------------------+----------------------+\n",
            "| GPU  Name        Persistence-M| Bus-Id        Disp.A | Volatile Uncorr. ECC |\n",
            "| Fan  Temp  Perf  Pwr:Usage/Cap|         Memory-Usage | GPU-Util  Compute M. |\n",
            "|                               |                      |               MIG M. |\n",
            "|===============================+======================+======================|\n",
            "|   0  Tesla K80           Off  | 00000000:00:04.0 Off |                    0 |\n",
            "| N/A   29C    P8    28W / 149W |      0MiB / 11441MiB |      0%      Default |\n",
            "|                               |                      |                  N/A |\n",
            "+-------------------------------+----------------------+----------------------+\n",
            "                                                                               \n",
            "+-----------------------------------------------------------------------------+\n",
            "| Processes:                                                                  |\n",
            "|  GPU   GI   CI        PID   Type   Process name                  GPU Memory |\n",
            "|        ID   ID                                                   Usage      |\n",
            "|=============================================================================|\n",
            "|  No running processes found                                                 |\n",
            "+-----------------------------------------------------------------------------+\n"
          ]
        }
      ]
    },
    {
      "cell_type": "markdown",
      "metadata": {
        "id": "LRZH_cvFPHnR"
      },
      "source": [
        "## Реализация"
      ]
    },
    {
      "cell_type": "markdown",
      "metadata": {
        "id": "Pxv81qzeUBsO"
      },
      "source": [
        "На вход программы подаются три матрицы NxN. Каждая матрица разбивается на блоки 32х32, каждая нить вычисляет один элемент блока результирующей матрицы С."
      ]
    },
    {
      "cell_type": "code",
      "metadata": {
        "id": "A1LfP5mDe9nx"
      },
      "source": [
        "import numpy as np\n",
        "from numba import cuda, float32\n",
        "from time import time"
      ],
      "execution_count": 3,
      "outputs": []
    },
    {
      "cell_type": "code",
      "source": [
        "BLOCK_SIZE = 32"
      ],
      "metadata": {
        "id": "_J5Ov_2XJ8-8"
      },
      "execution_count": 4,
      "outputs": []
    },
    {
      "cell_type": "code",
      "metadata": {
        "id": "v_0AkpiHfUhX"
      },
      "source": [
        "@cuda.jit\n",
        "def matmul(A, B, C):\n",
        "    sA = cuda.shared.array(shape=(BLOCK_SIZE, BLOCK_SIZE), dtype=float32)\n",
        "    sB = cuda.shared.array(shape=(BLOCK_SIZE, BLOCK_SIZE), dtype=float32)\n",
        "\n",
        "    tx = cuda.threadIdx.x\n",
        "    ty = cuda.threadIdx.y\n",
        "    bpg = cuda.gridDim.x   \n",
        "\n",
        "    x, y = cuda.grid(2)\n",
        "    if x >= C.shape[0] and y >= C.shape[1]:\n",
        "        return\n",
        "\n",
        "    # скалярное произведение разбивается на скалярные произведения векторов длиной BLOCK_SIZE.\n",
        "    tmp = 0.\n",
        "    for i in range(bpg):\n",
        "        sA[tx, ty] = A[x, ty + i * BLOCK_SIZE]\n",
        "        sB[tx, ty] = B[tx + i * BLOCK_SIZE, y]\n",
        "\n",
        "        cuda.syncthreads()\n",
        "\n",
        "        for j in range(BLOCK_SIZE):\n",
        "            tmp += sA[tx, j] * sB[j, ty]\n",
        "        cuda.syncthreads()\n",
        "\n",
        "    C[x, y] = tmp"
      ],
      "execution_count": 5,
      "outputs": []
    },
    {
      "cell_type": "markdown",
      "metadata": {
        "id": "y_KGDCG7UaVw"
      },
      "source": [
        "## Проверка корректности перемножения"
      ]
    },
    {
      "cell_type": "code",
      "metadata": {
        "colab": {
          "base_uri": "https://localhost:8080/"
        },
        "id": "a5Tqv_d8E8IY",
        "outputId": "d35daa27-5058-490b-a6a6-f04565a5c5fb"
      },
      "source": [
        "y = [2 ** i for i in range(7, 12)]\n",
        "presision = 1e-3\n",
        "x_cpu = []\n",
        "x_gpu = []\n",
        "acc = []\n",
        "for i in range(len(y)):\n",
        "    MATRIX_SIZE = y[i]\n",
        "    \n",
        "    A = np.random.randn(MATRIX_SIZE, MATRIX_SIZE).astype(np.float32)\n",
        "    B = np.random.randn(MATRIX_SIZE, MATRIX_SIZE).astype(np.float32)\n",
        "    C = np.zeros((MATRIX_SIZE, MATRIX_SIZE)).astype(np.float32)\n",
        "\n",
        "    ctic = time()\n",
        "    c_cpu = np.dot(A, B)\n",
        "    ctoc = float(time() - ctic)\n",
        "\n",
        "    A_gpu = cuda.to_device(A)\n",
        "    B_gpu = cuda.to_device(B)\n",
        "    C_gpu = cuda.to_device(C)\n",
        "    \n",
        "    gtic = time()\n",
        "    matmul[(MATRIX_SIZE // BLOCK_SIZE, MATRIX_SIZE // BLOCK_SIZE), \n",
        "                (BLOCK_SIZE, BLOCK_SIZE, 1)](A_gpu, B_gpu, C_gpu)\n",
        "    gtoc = float(time() - gtic)\n",
        "    \n",
        "    x_cpu.append(ctoc)\n",
        "    x_gpu.append(gtoc)\n",
        "    acc.append(ctoc / gtoc)\n",
        "\n",
        "    print(\"N:\", y[i], \"Корректность результата:\", np.all(np.abs(C_gpu.copy_to_host() - c_cpu) < presision))"
      ],
      "execution_count": 8,
      "outputs": [
        {
          "output_type": "stream",
          "name": "stdout",
          "text": [
            "N: 128 Корректность результата: True\n",
            "N: 256 Корректность результата: True\n",
            "N: 512 Корректность результата: True\n",
            "N: 1024 Корректность результата: True\n",
            "N: 2048 Корректность результата: True\n"
          ]
        }
      ]
    },
    {
      "cell_type": "markdown",
      "metadata": {
        "id": "MHM63opyPad2"
      },
      "source": [
        "## Эксперименты"
      ]
    },
    {
      "cell_type": "markdown",
      "source": [
        "На рисунках ниже представлены графики для времени работы алгоритмов и ускорения."
      ],
      "metadata": {
        "id": "cL5jNqPfKDti"
      }
    },
    {
      "cell_type": "code",
      "metadata": {
        "colab": {
          "base_uri": "https://localhost:8080/",
          "height": 407
        },
        "id": "mrgYQBUFH_XE",
        "outputId": "76a434ae-3b20-43a9-e1fe-a00a23686906"
      },
      "source": [
        "import numpy as np\n",
        "import matplotlib.pyplot as plt\n",
        "\n",
        "plt.figure(figsize=(20, 6))\n",
        "\n",
        "plt.subplot(1, 2, 1)\n",
        "plt.plot(y, x_cpu, label='CPU')\n",
        "plt.plot(y, x_gpu, label='GPU')\n",
        "plt.legend()\n",
        "plt.title(label='Время работы')\n",
        "plt.ylabel('Время (с)', fontsize=12)\n",
        "plt.xlabel('Размерность матрицы', fontsize=12)\n",
        "\n",
        "plt.subplot(1, 2, 2)\n",
        "plt.plot(y, acc)\n",
        "plt.title(label='Ускорение')\n",
        "plt.xlabel('Размерность матрицы', fontsize=12)\n",
        "\n",
        "plt.show()"
      ],
      "execution_count": 9,
      "outputs": [
        {
          "output_type": "display_data",
          "data": {
            "image/png": "[encoded data removed]",
            "text/plain": [
              "<Figure size 1440x432 with 2 Axes>"
            ]
          },
          "metadata": {
            "needs_background": "light"
          }
        }
      ]
    },
    {
      "cell_type": "markdown",
      "source": [
        "Таким образом, ускорение с увеличением размерностей матриц возрастает. "
      ],
      "metadata": {
        "id": "dalhIETlBm91"
      }
    }
  ]
}