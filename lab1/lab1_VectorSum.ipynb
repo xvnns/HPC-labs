{
  "nbformat": 4,
  "nbformat_minor": 0,
  "metadata": {
    "colab": {
      "name": "lab1_VectorSum.ipynb",
      "provenance": [],
      "collapsed_sections": []
    },
    "kernelspec": {
      "name": "python3",
      "display_name": "Python 3"
    },
    "language_info": {
      "name": "python"
    },
    "accelerator": "GPU"
  },
  "cells": [
    {
      "cell_type": "markdown",
      "metadata": {
        "id": "tGYLXjzMJv0U"
      },
      "source": [
        "# Лабораторная работа №1 — Сумма элементов вектора"
      ]
    },
    {
      "cell_type": "markdown",
      "metadata": {
        "id": "0JP2XDktOlOw"
      },
      "source": [
        "В данной лабораторной работе был реализован алгоритм сложения элементов вектора на GPU с применением CUDA.\n",
        "\n",
        "**Входные данные:** Вектор размером от 1000 до 1000000 значений.\n",
        "\n",
        "**Выходные данные:** сумма элементов вектора + время вычисления."
      ]
    },
    {
      "cell_type": "code",
      "source": [
        "!lscpu |grep 'Model name'"
      ],
      "metadata": {
        "id": "tfV-dZeuK_mu",
        "colab": {
          "base_uri": "https://localhost:8080/"
        },
        "outputId": "f15ecf46-2e01-468b-b760-cde28cbfc610"
      },
      "execution_count": null,
      "outputs": [
        {
          "output_type": "stream",
          "name": "stdout",
          "text": [
            "Model name:          Intel(R) Xeon(R) CPU @ 2.30GHz\n"
          ]
        }
      ]
    },
    {
      "cell_type": "code",
      "metadata": {
        "colab": {
          "base_uri": "https://localhost:8080/"
        },
        "id": "9pQHtxjMekc_",
        "outputId": "be714d30-9275-4a03-f335-ce3d8667cdfc"
      },
      "source": [
        "!nvidia-smi"
      ],
      "execution_count": null,
      "outputs": [
        {
          "output_type": "stream",
          "name": "stdout",
          "text": [
            "Wed Jan  5 22:50:27 2022       \n",
            "+-----------------------------------------------------------------------------+\n",
            "| NVIDIA-SMI 495.44       Driver Version: 460.32.03    CUDA Version: 11.2     |\n",
            "|-------------------------------+----------------------+----------------------+\n",
            "| GPU  Name        Persistence-M| Bus-Id        Disp.A | Volatile Uncorr. ECC |\n",
            "| Fan  Temp  Perf  Pwr:Usage/Cap|         Memory-Usage | GPU-Util  Compute M. |\n",
            "|                               |                      |               MIG M. |\n",
            "|===============================+======================+======================|\n",
            "|   0  Tesla K80           Off  | 00000000:00:04.0 Off |                    0 |\n",
            "| N/A   34C    P8    30W / 149W |      0MiB / 11441MiB |      0%      Default |\n",
            "|                               |                      |                  N/A |\n",
            "+-------------------------------+----------------------+----------------------+\n",
            "                                                                               \n",
            "+-----------------------------------------------------------------------------+\n",
            "| Processes:                                                                  |\n",
            "|  GPU   GI   CI        PID   Type   Process name                  GPU Memory |\n",
            "|        ID   ID                                                   Usage      |\n",
            "|=============================================================================|\n",
            "|  No running processes found                                                 |\n",
            "+-----------------------------------------------------------------------------+\n"
          ]
        }
      ]
    },
    {
      "cell_type": "markdown",
      "metadata": {
        "id": "LRZH_cvFPHnR"
      },
      "source": [
        "## Реализация"
      ]
    },
    {
      "cell_type": "markdown",
      "metadata": {
        "id": "yziV2zrwYHGv"
      },
      "source": [
        "Следующий код реализует суммирование массива `idata` произвольной длины N, результат суммирования записывается в нулевой элемент вектора `odata`. "
      ]
    },
    {
      "cell_type": "code",
      "metadata": {
        "id": "B2UEff2kUrVB"
      },
      "source": [
        "import numpy as np\n",
        "from numba import cuda, float32\n",
        "from time import time\n",
        "import matplotlib.pyplot as plt\n",
        "import pandas as pd"
      ],
      "execution_count": null,
      "outputs": []
    },
    {
      "cell_type": "code",
      "metadata": {
        "id": "hvSUmh8UYK7N"
      },
      "source": [
        "TPB = 32"
      ],
      "execution_count": null,
      "outputs": []
    },
    {
      "cell_type": "code",
      "metadata": {
        "id": "0NM-vOvfi0iA"
      },
      "source": [
        "@cuda.jit\n",
        "def vec_reduce(idata, odata):\n",
        "    # каждый поток загружает один элемент из глобальной в общую память\n",
        "    sdata = cuda.shared.array(TPB, dtype=float32)\n",
        "    \n",
        "    tid = cuda.threadIdx.x\n",
        "    i = cuda.blockIdx.x * cuda.blockDim.x + tid\n",
        "    \n",
        "    sdata[tid] = idata[i]\n",
        "    cuda.syncthreads()\n",
        "\n",
        "    # в цикле производится операция редукции  \n",
        "    s = 1\n",
        "    while s < cuda.blockDim.x:     \n",
        "        index = 2 * s * tid\n",
        "        if (index < cuda.blockDim.x):\n",
        "            sdata[index] += sdata[index + s]\n",
        "        cuda.syncthreads()      \n",
        "        s *= 2\n",
        "\n",
        "    # результат для текущего блока записывается в глобальную память\n",
        "    if (tid == 0):\n",
        "        cuda.atomic.add(odata, 0, sdata[0])"
      ],
      "execution_count": null,
      "outputs": []
    },
    {
      "cell_type": "markdown",
      "metadata": {
        "id": "y_KGDCG7UaVw"
      },
      "source": [
        "## Проверка корректности результата"
      ]
    },
    {
      "cell_type": "code",
      "metadata": {
        "colab": {
          "base_uri": "https://localhost:8080/"
        },
        "id": "shfmEMmiiwmi",
        "outputId": "4eb89a90-c22d-4db0-f7f6-94a1a4bf35d6"
      },
      "source": [
        "y = [2 ** i for i in range(10, 21)]\n",
        "presision = 1e-2\n",
        "x_cpu = []\n",
        "x_gpu = []\n",
        "acc = []\n",
        "\n",
        "for n in y:\n",
        "    MATRIX_SIZE = n\n",
        "\n",
        "    input_vec = np.random.randn(MATRIX_SIZE).astype(np.float32)\n",
        "    output_vec = np.zeros(MATRIX_SIZE).astype(np.float32)\n",
        "\n",
        "    ctic = time()\n",
        "    res_cpu = input_vec.sum()\n",
        "    ctoc = float(time() - ctic)\n",
        "    x_cpu.append(ctoc)\n",
        "\n",
        "    input_vec_gpu = cuda.to_device(input_vec)\n",
        "    output_vec_gpu = cuda.to_device(output_vec)\n",
        "\n",
        "\n",
        "    gtic = time()\n",
        "    vec_reduce[n // TPB, TPB](input_vec_gpu, output_vec_gpu)\n",
        "    gtoc = float(time() - gtic)\n",
        "    x_gpu.append(gtoc)\n",
        "\n",
        "    acc.append(ctoc / gtoc)\n",
        "\n",
        "    print(\"N:\", n, \"Корректность результата:\", np.abs(output_vec_gpu.copy_to_host()[0] - res_cpu) < presision)"
      ],
      "execution_count": null,
      "outputs": [
        {
          "output_type": "stream",
          "name": "stdout",
          "text": [
            "N: 1024 Корректность результата: True\n",
            "N: 2048 Корректность результата: True\n",
            "N: 4096 Корректность результата: True\n",
            "N: 8192 Корректность результата: True\n",
            "N: 16384 Корректность результата: True\n",
            "N: 32768 Корректность результата: True\n",
            "N: 65536 Корректность результата: True\n",
            "N: 131072 Корректность результата: True\n",
            "N: 262144 Корректность результата: True\n",
            "N: 524288 Корректность результата: True\n",
            "N: 1048576 Корректность результата: True\n"
          ]
        }
      ]
    },
    {
      "cell_type": "markdown",
      "source": [
        "## Сравнение работы алгоритмов на GPU и CPU"
      ],
      "metadata": {
        "id": "9npGjtU0f9tC"
      }
    },
    {
      "cell_type": "code",
      "source": [
        "pd.DataFrame.from_dict({'N': y,'CPU time': x_cpu, 'GPU time': x_gpu})"
      ],
      "metadata": {
        "colab": {
          "base_uri": "https://localhost:8080/",
          "height": 394
        },
        "id": "WtPMWgzNdZ5l",
        "outputId": "7a82ba3e-0fca-4ea4-9298-23a05093f92b"
      },
      "execution_count": null,
      "outputs": [
        {
          "output_type": "execute_result",
          "data": {
            "text/html": [
              "\n",
              "  <div id=\"df-bbc96003-4e2f-47ff-806d-75b78941b660\">\n",
              "    <div class=\"colab-df-container\">\n",
              "      <div>\n",
              "<style scoped>\n",
              "    .dataframe tbody tr th:only-of-type {\n",
              "        vertical-align: middle;\n",
              "    }\n",
              "\n",
              "    .dataframe tbody tr th {\n",
              "        vertical-align: top;\n",
              "    }\n",
              "\n",
              "    .dataframe thead th {\n",
              "        text-align: right;\n",
              "    }\n",
              "</style>\n",
              "<table border=\"1\" class=\"dataframe\">\n",
              "  <thead>\n",
              "    <tr style=\"text-align: right;\">\n",
              "      <th></th>\n",
              "      <th>N</th>\n",
              "      <th>CPU time</th>\n",
              "      <th>GPU time</th>\n",
              "    </tr>\n",
              "  </thead>\n",
              "  <tbody>\n",
              "    <tr>\n",
              "      <th>0</th>\n",
              "      <td>1024</td>\n",
              "      <td>0.000075</td>\n",
              "      <td>0.686909</td>\n",
              "    </tr>\n",
              "    <tr>\n",
              "      <th>1</th>\n",
              "      <td>2048</td>\n",
              "      <td>0.000043</td>\n",
              "      <td>0.000411</td>\n",
              "    </tr>\n",
              "    <tr>\n",
              "      <th>2</th>\n",
              "      <td>4096</td>\n",
              "      <td>0.000022</td>\n",
              "      <td>0.000289</td>\n",
              "    </tr>\n",
              "    <tr>\n",
              "      <th>3</th>\n",
              "      <td>8192</td>\n",
              "      <td>0.000025</td>\n",
              "      <td>0.000350</td>\n",
              "    </tr>\n",
              "    <tr>\n",
              "      <th>4</th>\n",
              "      <td>16384</td>\n",
              "      <td>0.000025</td>\n",
              "      <td>0.000275</td>\n",
              "    </tr>\n",
              "    <tr>\n",
              "      <th>5</th>\n",
              "      <td>32768</td>\n",
              "      <td>0.000031</td>\n",
              "      <td>0.000259</td>\n",
              "    </tr>\n",
              "    <tr>\n",
              "      <th>6</th>\n",
              "      <td>65536</td>\n",
              "      <td>0.000060</td>\n",
              "      <td>0.000263</td>\n",
              "    </tr>\n",
              "    <tr>\n",
              "      <th>7</th>\n",
              "      <td>131072</td>\n",
              "      <td>0.000069</td>\n",
              "      <td>0.000270</td>\n",
              "    </tr>\n",
              "    <tr>\n",
              "      <th>8</th>\n",
              "      <td>262144</td>\n",
              "      <td>0.000177</td>\n",
              "      <td>0.000286</td>\n",
              "    </tr>\n",
              "    <tr>\n",
              "      <th>9</th>\n",
              "      <td>524288</td>\n",
              "      <td>0.000236</td>\n",
              "      <td>0.000309</td>\n",
              "    </tr>\n",
              "    <tr>\n",
              "      <th>10</th>\n",
              "      <td>1048576</td>\n",
              "      <td>0.000465</td>\n",
              "      <td>0.000352</td>\n",
              "    </tr>\n",
              "  </tbody>\n",
              "</table>\n",
              "</div>\n",
              "      <button class=\"colab-df-convert\" onclick=\"convertToInteractive('df-bbc96003-4e2f-47ff-806d-75b78941b660')\"\n",
              "              title=\"Convert this dataframe to an interactive table.\"\n",
              "              style=\"display:none;\">\n",
              "        \n",
              "  <svg xmlns=\"http://www.w3.org/2000/svg\" height=\"24px\"viewBox=\"0 0 24 24\"\n",
              "       width=\"24px\">\n",
              "    <path d=\"M0 0h24v24H0V0z\" fill=\"none\"/>\n",
              "    <path d=\"M18.56 5.44l.94 2.06.94-2.06 2.06-.94-2.06-.94-.94-2.06-.94 2.06-2.06.94zm-11 1L8.5 8.5l.94-2.06 2.06-.94-2.06-.94L8.5 2.5l-.94 2.06-2.06.94zm10 10l.94 2.06.94-2.06 2.06-.94-2.06-.94-.94-2.06-.94 2.06-2.06.94z\"/><path d=\"M17.41 7.96l-1.37-1.37c-.4-.4-.92-.59-1.43-.59-.52 0-1.04.2-1.43.59L10.3 9.45l-7.72 7.72c-.78.78-.78 2.05 0 2.83L4 21.41c.39.39.9.59 1.41.59.51 0 1.02-.2 1.41-.59l7.78-7.78 2.81-2.81c.8-.78.8-2.07 0-2.86zM5.41 20L4 18.59l7.72-7.72 1.47 1.35L5.41 20z\"/>\n",
              "  </svg>\n",
              "      </button>\n",
              "      \n",
              "  <style>\n",
              "    .colab-df-container {\n",
              "      display:flex;\n",
              "      flex-wrap:wrap;\n",
              "      gap: 12px;\n",
              "    }\n",
              "\n",
              "    .colab-df-convert {\n",
              "      background-color: #E8F0FE;\n",
              "      border: none;\n",
              "      border-radius: 50%;\n",
              "      cursor: pointer;\n",
              "      display: none;\n",
              "      fill: #1967D2;\n",
              "      height: 32px;\n",
              "      padding: 0 0 0 0;\n",
              "      width: 32px;\n",
              "    }\n",
              "\n",
              "    .colab-df-convert:hover {\n",
              "      background-color: #E2EBFA;\n",
              "      box-shadow: 0px 1px 2px rgba(60, 64, 67, 0.3), 0px 1px 3px 1px rgba(60, 64, 67, 0.15);\n",
              "      fill: #174EA6;\n",
              "    }\n",
              "\n",
              "    [theme=dark] .colab-df-convert {\n",
              "      background-color: #3B4455;\n",
              "      fill: #D2E3FC;\n",
              "    }\n",
              "\n",
              "    [theme=dark] .colab-df-convert:hover {\n",
              "      background-color: #434B5C;\n",
              "      box-shadow: 0px 1px 3px 1px rgba(0, 0, 0, 0.15);\n",
              "      filter: drop-shadow(0px 1px 2px rgba(0, 0, 0, 0.3));\n",
              "      fill: #FFFFFF;\n",
              "    }\n",
              "  </style>\n",
              "\n",
              "      <script>\n",
              "        const buttonEl =\n",
              "          document.querySelector('#df-bbc96003-4e2f-47ff-806d-75b78941b660 button.colab-df-convert');\n",
              "        buttonEl.style.display =\n",
              "          google.colab.kernel.accessAllowed ? 'block' : 'none';\n",
              "\n",
              "        async function convertToInteractive(key) {\n",
              "          const element = document.querySelector('#df-bbc96003-4e2f-47ff-806d-75b78941b660');\n",
              "          const dataTable =\n",
              "            await google.colab.kernel.invokeFunction('convertToInteractive',\n",
              "                                                     [key], {});\n",
              "          if (!dataTable) return;\n",
              "\n",
              "          const docLinkHtml = 'Like what you see? Visit the ' +\n",
              "            '<a target=\"_blank\" href=https://colab.research.google.com/notebooks/data_table.ipynb>data table notebook</a>'\n",
              "            + ' to learn more about interactive tables.';\n",
              "          element.innerHTML = '';\n",
              "          dataTable['output_type'] = 'display_data';\n",
              "          await google.colab.output.renderOutput(dataTable, element);\n",
              "          const docLink = document.createElement('div');\n",
              "          docLink.innerHTML = docLinkHtml;\n",
              "          element.appendChild(docLink);\n",
              "        }\n",
              "      </script>\n",
              "    </div>\n",
              "  </div>\n",
              "  "
            ],
            "text/plain": [
              "          N  CPU time  GPU time\n",
              "0      1024  0.000075  0.686909\n",
              "1      2048  0.000043  0.000411\n",
              "2      4096  0.000022  0.000289\n",
              "3      8192  0.000025  0.000350\n",
              "4     16384  0.000025  0.000275\n",
              "5     32768  0.000031  0.000259\n",
              "6     65536  0.000060  0.000263\n",
              "7    131072  0.000069  0.000270\n",
              "8    262144  0.000177  0.000286\n",
              "9    524288  0.000236  0.000309\n",
              "10  1048576  0.000465  0.000352"
            ]
          },
          "metadata": {},
          "execution_count": 7
        }
      ]
    },
    {
      "cell_type": "code",
      "metadata": {
        "colab": {
          "base_uri": "https://localhost:8080/",
          "height": 407
        },
        "id": "mrgYQBUFH_XE",
        "outputId": "5256fafe-1321-4345-ef85-735f35e31616"
      },
      "source": [
        "plt.figure(figsize=(10, 6))\n",
        "\n",
        "plt.plot(y, acc)\n",
        "plt.title(label='Ускорение')\n",
        "plt.xlabel('Размерность матрицы', fontsize=12)\n",
        "\n",
        "plt.show()"
      ],
      "execution_count": null,
      "outputs": [
        {
          "output_type": "display_data",
          "data": {
            "image/png": "[encoded data removed]",
            "text/plain": [
              "<Figure size 720x432 with 1 Axes>"
            ]
          },
          "metadata": {
            "needs_background": "light"
          }
        }
      ]
    },
    {
      "cell_type": "markdown",
      "source": [
        "Ускорение работы программы на GPU относительно CPU очень долго не превышает 1 вследствие того, что много времени тратится на распараллеливание алгоритма. Поэтому, если количество элементов вектора не близко к 1 000 000, сумму будет выгоднее считать на CPU."
      ],
      "metadata": {
        "id": "B-ZAqIqOZzrS"
      }
    }
  ]
}