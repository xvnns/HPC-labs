{
  "nbformat": 4,
  "nbformat_minor": 0,
  "metadata": {
    "colab": {
      "name": "pi_calc.ipynb",
      "provenance": [],
      "collapsed_sections": []
    },
    "kernelspec": {
      "name": "python3",
      "display_name": "Python 3"
    },
    "language_info": {
      "name": "python"
    },
    "accelerator": "GPU"
  },
  "cells": [
    {
      "cell_type": "markdown",
      "source": [
        "# Pi calculation\n",
        "\n",
        "\n",
        "\n",
        "\n"
      ],
      "metadata": {
        "id": "zAYKpV620YpK"
      }
    },
    {
      "cell_type": "markdown",
      "source": [
        "В ходе выполнения лабораторной работы был реализован алгоритм рассчета числа π методом Монте-Карло с применением CUDA.\n",
        "\n",
        "**Входные данные:** количество точек N.\n",
        "\n",
        "**Выходные данные:** \n",
        "\n",
        "*   время выполнения программы на GPU и CPU;\n",
        "*   число π, рассчитанное на GPU и CPU."
      ],
      "metadata": {
        "id": "vRq3qmwg2pxQ"
      }
    },
    {
      "cell_type": "code",
      "source": [
        "import numpy as np\n",
        "from numba import cuda\n",
        "from time import time\n",
        "import random\n",
        "from numba.cuda.random import create_xoroshiro128p_states, xoroshiro128p_uniform_float32"
      ],
      "metadata": {
        "id": "XKrYUzZPVvJL"
      },
      "execution_count": 1,
      "outputs": []
    },
    {
      "cell_type": "code",
      "source": [
        "N = 1000000"
      ],
      "metadata": {
        "id": "P4y4kSGrM5K_"
      },
      "execution_count": 2,
      "outputs": []
    },
    {
      "cell_type": "markdown",
      "source": [
        "### Реализация на GPU"
      ],
      "metadata": {
        "id": "p4-nnKHrK1Ra"
      }
    },
    {
      "cell_type": "code",
      "source": [
        "@cuda.jit\n",
        "def calc_pi_numba(rng_states, N, res):\n",
        "    idx = cuda.grid(1)\n",
        "    M = 0\n",
        "    for i in range(N):\n",
        "        # генерация случайных чисел с плавающей точкой\n",
        "        x = xoroshiro128p_uniform_float32(rng_states, idx)\n",
        "        y = xoroshiro128p_uniform_float32(rng_states, idx)\n",
        "        if x ** 2 + y ** 2 <= 1.0:\n",
        "            M += 1\n",
        "    res[idx] = 4 * M / N"
      ],
      "metadata": {
        "id": "zBdKQYL9VDfX"
      },
      "execution_count": 3,
      "outputs": []
    },
    {
      "cell_type": "code",
      "source": [
        "threads_per_block = 32\n",
        "blocks = 32\n",
        "\n",
        "rng_states = create_xoroshiro128p_states(threads_per_block * blocks, seed=1)\n",
        "out = np.zeros(threads_per_block * blocks, dtype=np.float32)\n",
        "\n",
        "out_gpu = cuda.to_device(out)\n",
        "\n",
        "start = time()\n",
        "calc_pi_numba[blocks, threads_per_block](rng_states, N, out_gpu)\n",
        "time_gpu = time() - start\n",
        "\n",
        "pi_gpu = out_gpu.copy_to_host().mean()"
      ],
      "metadata": {
        "id": "sTzl0KHtjAhv"
      },
      "execution_count": 10,
      "outputs": []
    },
    {
      "cell_type": "markdown",
      "source": [
        "### Реализация на CPU"
      ],
      "metadata": {
        "id": "VqPZavwrK8RQ"
      }
    },
    {
      "cell_type": "code",
      "source": [
        "def calc_pi(N):\n",
        "    M = 0\n",
        "    for i in range(N):\n",
        "        x = random.uniform(-1, 1)\n",
        "        y = random.uniform(-1, 1)\n",
        "        if x ** 2 + y ** 2 < 1.0:\n",
        "            M += 1\n",
        "    return 4 * M / N"
      ],
      "metadata": {
        "id": "D5I1EH1JaZYP"
      },
      "execution_count": 5,
      "outputs": []
    },
    {
      "cell_type": "code",
      "source": [
        "start = time()\n",
        "pi_cpu = calc_pi(N)\n",
        "time_cpu = time() - start"
      ],
      "metadata": {
        "id": "Q1-qlQVpaa_Z"
      },
      "execution_count": 11,
      "outputs": []
    },
    {
      "cell_type": "markdown",
      "source": [
        "### Сравнение работы алгоритмов на GPU и CPU"
      ],
      "metadata": {
        "id": "7N8SnBQzL-k_"
      }
    },
    {
      "cell_type": "code",
      "source": [
        "print('-------------GPU-------------')\n",
        "print('pi:', out_gpu.copy_to_host().mean(), 'time:', time_gpu)\n",
        "print('')\n",
        "print('-------------CPU-------------')\n",
        "print('pi:', pi_cpu, 'time:', time_cpu)\n",
        "print('')\n",
        "print('Сравнение с числом pi:')\n",
        "print('GPU:', abs(np.pi -  pi_gpu) )\n",
        "print('CPU:', abs(np.pi -  pi_cpu) )"
      ],
      "metadata": {
        "colab": {
          "base_uri": "https://localhost:8080/"
        },
        "id": "IyQWVc8lMBLg",
        "outputId": "be5357dc-8775-4a05-9995-a669a8104e2c"
      },
      "execution_count": 12,
      "outputs": [
        {
          "output_type": "stream",
          "name": "stdout",
          "text": [
            "-------------GPU-------------\n",
            "pi: 3.1415448 time: 0.0009541511535644531\n",
            "\n",
            "-------------CPU-------------\n",
            "pi: 3.14164 time: 0.9388682842254639\n",
            "\n",
            "Сравнение с числом pi:\n",
            "GPU: 4.783471161928787e-05\n",
            "CPU: 4.734641020709418e-05\n"
          ]
        }
      ]
    },
    {
      "cell_type": "markdown",
      "source": [
        "Таким образом, вычисление числа pi на GPU происходит значительно быстрее, чем на CPU. "
      ],
      "metadata": {
        "id": "9pGmAzu7NMUZ"
      }
    }
  ]
}